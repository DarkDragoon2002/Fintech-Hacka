{
 "cells": [
  {
   "cell_type": "markdown",
   "metadata": {},
   "source": [
    "Importing Necessary Packages"
   ]
  },
  {
   "cell_type": "code",
   "execution_count": 42,
   "metadata": {},
   "outputs": [],
   "source": [
    "import pandas as pd\n",
    "import yfinance as yf\n",
    "import numpy as np\n",
    "import keras\n",
    "import tensorflow as tf\n",
    "from sklearn.model_selection import train_test_split\n",
    "from sklearn.metrics import mean_squared_error\n",
    "from sklearn.preprocessing import MinMaxScaler\n",
    "from keras.models import Model\n",
    "from keras.models import Sequential\n",
    "from keras.layers import Dense, Dropout, LSTM, Input, Activation,concatenate, Attention, Bidirectional,GlobalAveragePooling1D\n",
    "from keras import optimizers\n",
    "from keras.preprocessing.sequence import TimeseriesGenerator\n",
    "from keras.layers import LeakyReLU\n",
    "import matplotlib.pyplot as plt\n",
    "import keras_tuner as kt\n",
    "import math"
   ]
  },
  {
   "cell_type": "markdown",
   "metadata": {},
   "source": [
    "Data Pull and Plot"
   ]
  },
  {
   "cell_type": "code",
   "execution_count": 43,
   "metadata": {},
   "outputs": [
    {
     "name": "stderr",
     "output_type": "stream",
     "text": [
      "[*********************100%%**********************]  1 of 1 completed\n"
     ]
    },
    {
     "data": {
      "text/html": [
       "<div>\n",
       "<style scoped>\n",
       "    .dataframe tbody tr th:only-of-type {\n",
       "        vertical-align: middle;\n",
       "    }\n",
       "\n",
       "    .dataframe tbody tr th {\n",
       "        vertical-align: top;\n",
       "    }\n",
       "\n",
       "    .dataframe thead th {\n",
       "        text-align: right;\n",
       "    }\n",
       "</style>\n",
       "<table border=\"1\" class=\"dataframe\">\n",
       "  <thead>\n",
       "    <tr style=\"text-align: right;\">\n",
       "      <th></th>\n",
       "      <th>Date</th>\n",
       "      <th>Open</th>\n",
       "      <th>High</th>\n",
       "      <th>Low</th>\n",
       "      <th>Close</th>\n",
       "      <th>Adj Close</th>\n",
       "      <th>Volume</th>\n",
       "    </tr>\n",
       "  </thead>\n",
       "  <tbody>\n",
       "    <tr>\n",
       "      <th>0</th>\n",
       "      <td>2017-11-09</td>\n",
       "      <td>308.644989</td>\n",
       "      <td>329.451996</td>\n",
       "      <td>307.056000</td>\n",
       "      <td>320.884003</td>\n",
       "      <td>320.884003</td>\n",
       "      <td>893249984</td>\n",
       "    </tr>\n",
       "    <tr>\n",
       "      <th>1</th>\n",
       "      <td>2017-11-10</td>\n",
       "      <td>320.670990</td>\n",
       "      <td>324.717987</td>\n",
       "      <td>294.541992</td>\n",
       "      <td>299.252991</td>\n",
       "      <td>299.252991</td>\n",
       "      <td>885985984</td>\n",
       "    </tr>\n",
       "    <tr>\n",
       "      <th>2</th>\n",
       "      <td>2017-11-11</td>\n",
       "      <td>298.585999</td>\n",
       "      <td>319.453003</td>\n",
       "      <td>298.191986</td>\n",
       "      <td>314.681000</td>\n",
       "      <td>314.681000</td>\n",
       "      <td>842300992</td>\n",
       "    </tr>\n",
       "    <tr>\n",
       "      <th>3</th>\n",
       "      <td>2017-11-12</td>\n",
       "      <td>314.690002</td>\n",
       "      <td>319.153015</td>\n",
       "      <td>298.513000</td>\n",
       "      <td>307.907990</td>\n",
       "      <td>307.907990</td>\n",
       "      <td>1613479936</td>\n",
       "    </tr>\n",
       "    <tr>\n",
       "      <th>4</th>\n",
       "      <td>2017-11-13</td>\n",
       "      <td>307.024994</td>\n",
       "      <td>328.415009</td>\n",
       "      <td>307.024994</td>\n",
       "      <td>316.716003</td>\n",
       "      <td>316.716003</td>\n",
       "      <td>1041889984</td>\n",
       "    </tr>\n",
       "    <tr>\n",
       "      <th>...</th>\n",
       "      <td>...</td>\n",
       "      <td>...</td>\n",
       "      <td>...</td>\n",
       "      <td>...</td>\n",
       "      <td>...</td>\n",
       "      <td>...</td>\n",
       "      <td>...</td>\n",
       "    </tr>\n",
       "    <tr>\n",
       "      <th>2247</th>\n",
       "      <td>2024-01-04</td>\n",
       "      <td>2210.529053</td>\n",
       "      <td>2294.608154</td>\n",
       "      <td>2204.865723</td>\n",
       "      <td>2269.038086</td>\n",
       "      <td>2269.038086</td>\n",
       "      <td>11044564896</td>\n",
       "    </tr>\n",
       "    <tr>\n",
       "      <th>2248</th>\n",
       "      <td>2024-01-05</td>\n",
       "      <td>2269.409424</td>\n",
       "      <td>2276.764648</td>\n",
       "      <td>2209.537109</td>\n",
       "      <td>2268.647217</td>\n",
       "      <td>2268.647217</td>\n",
       "      <td>10860953290</td>\n",
       "    </tr>\n",
       "    <tr>\n",
       "      <th>2249</th>\n",
       "      <td>2024-01-06</td>\n",
       "      <td>2269.540039</td>\n",
       "      <td>2271.359375</td>\n",
       "      <td>2219.781982</td>\n",
       "      <td>2241.624756</td>\n",
       "      <td>2241.624756</td>\n",
       "      <td>5970741680</td>\n",
       "    </tr>\n",
       "    <tr>\n",
       "      <th>2250</th>\n",
       "      <td>2024-01-07</td>\n",
       "      <td>2242.012695</td>\n",
       "      <td>2257.127930</td>\n",
       "      <td>2211.562500</td>\n",
       "      <td>2222.865967</td>\n",
       "      <td>2222.865967</td>\n",
       "      <td>6490053615</td>\n",
       "    </tr>\n",
       "    <tr>\n",
       "      <th>2251</th>\n",
       "      <td>2024-01-08</td>\n",
       "      <td>2222.857666</td>\n",
       "      <td>2234.195801</td>\n",
       "      <td>2176.899658</td>\n",
       "      <td>2231.632812</td>\n",
       "      <td>2231.632812</td>\n",
       "      <td>9216184320</td>\n",
       "    </tr>\n",
       "  </tbody>\n",
       "</table>\n",
       "<p>2252 rows × 7 columns</p>\n",
       "</div>"
      ],
      "text/plain": [
       "           Date         Open         High          Low        Close  \\\n",
       "0    2017-11-09   308.644989   329.451996   307.056000   320.884003   \n",
       "1    2017-11-10   320.670990   324.717987   294.541992   299.252991   \n",
       "2    2017-11-11   298.585999   319.453003   298.191986   314.681000   \n",
       "3    2017-11-12   314.690002   319.153015   298.513000   307.907990   \n",
       "4    2017-11-13   307.024994   328.415009   307.024994   316.716003   \n",
       "...         ...          ...          ...          ...          ...   \n",
       "2247 2024-01-04  2210.529053  2294.608154  2204.865723  2269.038086   \n",
       "2248 2024-01-05  2269.409424  2276.764648  2209.537109  2268.647217   \n",
       "2249 2024-01-06  2269.540039  2271.359375  2219.781982  2241.624756   \n",
       "2250 2024-01-07  2242.012695  2257.127930  2211.562500  2222.865967   \n",
       "2251 2024-01-08  2222.857666  2234.195801  2176.899658  2231.632812   \n",
       "\n",
       "        Adj Close       Volume  \n",
       "0      320.884003    893249984  \n",
       "1      299.252991    885985984  \n",
       "2      314.681000    842300992  \n",
       "3      307.907990   1613479936  \n",
       "4      316.716003   1041889984  \n",
       "...           ...          ...  \n",
       "2247  2269.038086  11044564896  \n",
       "2248  2268.647217  10860953290  \n",
       "2249  2241.624756   5970741680  \n",
       "2250  2222.865967   6490053615  \n",
       "2251  2231.632812   9216184320  \n",
       "\n",
       "[2252 rows x 7 columns]"
      ]
     },
     "metadata": {},
     "output_type": "display_data"
    }
   ],
   "source": [
    "start_date = '2016-01-01'\n",
    "data = yf.download(\"ETH-USD\", start=start_date)\n",
    "data = data.reset_index()\n",
    "dates = data['Date']\n",
    "display(data)"
   ]
  },
  {
   "cell_type": "code",
   "execution_count": 44,
   "metadata": {},
   "outputs": [
    {
     "data": {
      "text/plain": [
       "[<matplotlib.lines.Line2D at 0x118aac45c10>]"
      ]
     },
     "execution_count": 44,
     "metadata": {},
     "output_type": "execute_result"
    },
    {
     "data": {
      "image/png": "[encoded data removed]",
      "text/plain": [
       "<Figure size 640x480 with 1 Axes>"
      ]
     },
     "metadata": {},
     "output_type": "display_data"
    }
   ],
   "source": [
    "dataclose = data.reset_index()['Close']\n",
    "plt.plot(dataclose)"
   ]
  },
  {
   "cell_type": "code",
   "execution_count": 45,
   "metadata": {},
   "outputs": [
    {
     "data": {
      "text/plain": [
       "(2252, 1)"
      ]
     },
     "execution_count": 45,
     "metadata": {},
     "output_type": "execute_result"
    }
   ],
   "source": [
    "scaler = MinMaxScaler()\n",
    "dataclose = scaler.fit_transform(np.array(dataclose).reshape(-1,1))\n",
    "dataclose.shape"
   ]
  },
  {
   "cell_type": "code",
   "execution_count": 46,
   "metadata": {},
   "outputs": [],
   "source": [
    "train_size = int(len(dataclose)*0.65)\n",
    "test_size = len(dataclose) - train_size\n",
    "train_data,test_data = dataclose[0:train_size,:],dataclose[train_size:len(dataclose),:1]"
   ]
  },
  {
   "cell_type": "code",
   "execution_count": 47,
   "metadata": {},
   "outputs": [],
   "source": [
    "def create_dataset(dataset, time_step = 1):\n",
    "    dataX,dataY = [],[]\n",
    "    for i in range(len(dataset)-time_step-1):\n",
    "                   a = dataset[i:(i+time_step),0]\n",
    "                   dataX.append(a)\n",
    "                   dataY.append(dataset[i + time_step,0])\n",
    "    return np.array(dataX),np.array(dataY)"
   ]
  },
  {
   "cell_type": "code",
   "execution_count": 48,
   "metadata": {},
   "outputs": [],
   "source": [
    "# calling the create dataset function to split the data into \n",
    "# input output datasets with time step 100\n",
    "time_step = 100\n",
    "X_train,Y_train =  create_dataset(train_data,time_step)\n",
    "X_test,Y_test =  create_dataset(test_data,time_step)"
   ]
  },
  {
   "cell_type": "code",
   "execution_count": 49,
   "metadata": {},
   "outputs": [],
   "source": [
    "model = Sequential()\n",
    "model.add(LSTM(50,return_sequences = True,input_shape = (X_train.shape[1],1)))\n",
    "model.add(LSTM(50,return_sequences = True))\n",
    "model.add(LSTM(50))\n",
    "model.add(Dense(1))\n",
    "model.compile(loss = 'mean_squared_error',optimizer = 'adam')"
   ]
  },
  {
   "cell_type": "code",
   "execution_count": 50,
   "metadata": {},
   "outputs": [
    {
     "name": "stdout",
     "output_type": "stream",
     "text": [
      "Model: \"sequential_1\"\n",
      "_________________________________________________________________\n",
      " Layer (type)                Output Shape              Param #   \n",
      "=================================================================\n",
      " lstm_3 (LSTM)               (None, 100, 50)           10400     \n",
      "                                                                 \n",
      " lstm_4 (LSTM)               (None, 100, 50)           20200     \n",
      "                                                                 \n",
      " lstm_5 (LSTM)               (None, 50)                20200     \n",
      "                                                                 \n",
      " dense_1 (Dense)             (None, 1)                 51        \n",
      "                                                                 \n",
      "=================================================================\n",
      "Total params: 50851 (198.64 KB)\n",
      "Trainable params: 50851 (198.64 KB)\n",
      "Non-trainable params: 0 (0.00 Byte)\n",
      "_________________________________________________________________\n"
     ]
    }
   ],
   "source": [
    "model.summary()"
   ]
  },
  {
   "cell_type": "code",
   "execution_count": 51,
   "metadata": {},
   "outputs": [
    {
     "name": "stdout",
     "output_type": "stream",
     "text": [
      "Epoch 1/100\n",
      "22/22 [==============================] - 6s 106ms/step - loss: 0.0154 - val_loss: 0.0034\n",
      "Epoch 2/100\n",
      "22/22 [==============================] - 2s 73ms/step - loss: 0.0024 - val_loss: 0.0021\n",
      "Epoch 3/100\n",
      "22/22 [==============================] - 2s 69ms/step - loss: 0.0020 - val_loss: 0.0016\n",
      "Epoch 4/100\n",
      "22/22 [==============================] - 1s 66ms/step - loss: 0.0018 - val_loss: 0.0029\n",
      "Epoch 5/100\n",
      "22/22 [==============================] - 2s 77ms/step - loss: 0.0016 - val_loss: 0.0015\n",
      "Epoch 6/100\n",
      "22/22 [==============================] - 2s 87ms/step - loss: 0.0017 - val_loss: 0.0015\n",
      "Epoch 7/100\n",
      "22/22 [==============================] - 2s 101ms/step - loss: 0.0016 - val_loss: 0.0023\n",
      "Epoch 8/100\n",
      "22/22 [==============================] - 2s 92ms/step - loss: 0.0020 - val_loss: 0.0012\n",
      "Epoch 9/100\n",
      "22/22 [==============================] - 1s 66ms/step - loss: 0.0016 - val_loss: 0.0035\n",
      "Epoch 10/100\n",
      "22/22 [==============================] - 2s 76ms/step - loss: 0.0012 - val_loss: 0.0010\n",
      "Epoch 11/100\n",
      "22/22 [==============================] - 1s 68ms/step - loss: 0.0010 - val_loss: 8.2907e-04\n",
      "Epoch 12/100\n",
      "22/22 [==============================] - 1s 66ms/step - loss: 0.0010 - val_loss: 8.0459e-04\n",
      "Epoch 13/100\n",
      "22/22 [==============================] - 2s 81ms/step - loss: 9.1175e-04 - val_loss: 0.0022\n",
      "Epoch 14/100\n",
      "22/22 [==============================] - 2s 100ms/step - loss: 8.8569e-04 - val_loss: 0.0011\n",
      "Epoch 15/100\n",
      "22/22 [==============================] - 2s 96ms/step - loss: 8.8891e-04 - val_loss: 8.7597e-04\n",
      "Epoch 16/100\n",
      "22/22 [==============================] - 2s 99ms/step - loss: 8.1555e-04 - val_loss: 6.6363e-04\n",
      "Epoch 17/100\n",
      "22/22 [==============================] - 2s 86ms/step - loss: 8.7764e-04 - val_loss: 6.5354e-04\n",
      "Epoch 18/100\n",
      "22/22 [==============================] - 2s 83ms/step - loss: 7.2470e-04 - val_loss: 6.3528e-04\n",
      "Epoch 19/100\n",
      "22/22 [==============================] - 2s 81ms/step - loss: 8.2493e-04 - val_loss: 6.7108e-04\n",
      "Epoch 20/100\n",
      "22/22 [==============================] - 2s 82ms/step - loss: 9.5238e-04 - val_loss: 0.0026\n",
      "Epoch 21/100\n",
      "22/22 [==============================] - 2s 89ms/step - loss: 0.0010 - val_loss: 6.0336e-04\n",
      "Epoch 22/100\n",
      "22/22 [==============================] - 2s 88ms/step - loss: 6.6941e-04 - val_loss: 9.1446e-04\n",
      "Epoch 23/100\n",
      "22/22 [==============================] - 2s 86ms/step - loss: 7.2587e-04 - val_loss: 0.0022\n",
      "Epoch 24/100\n",
      "22/22 [==============================] - 2s 93ms/step - loss: 6.4142e-04 - val_loss: 5.4664e-04\n",
      "Epoch 25/100\n",
      "22/22 [==============================] - 2s 88ms/step - loss: 5.8509e-04 - val_loss: 6.6576e-04\n",
      "Epoch 26/100\n",
      "22/22 [==============================] - 2s 87ms/step - loss: 5.5831e-04 - val_loss: 9.0724e-04\n",
      "Epoch 27/100\n",
      "22/22 [==============================] - 2s 83ms/step - loss: 5.9346e-04 - val_loss: 0.0013\n",
      "Epoch 28/100\n",
      "22/22 [==============================] - 2s 86ms/step - loss: 5.6474e-04 - val_loss: 0.0016\n",
      "Epoch 29/100\n",
      "22/22 [==============================] - 2s 82ms/step - loss: 6.6931e-04 - val_loss: 5.3823e-04\n",
      "Epoch 30/100\n",
      "22/22 [==============================] - 2s 85ms/step - loss: 6.9662e-04 - val_loss: 9.1548e-04\n",
      "Epoch 31/100\n",
      "22/22 [==============================] - 2s 85ms/step - loss: 6.1454e-04 - val_loss: 5.3291e-04\n",
      "Epoch 32/100\n",
      "22/22 [==============================] - 2s 88ms/step - loss: 5.1454e-04 - val_loss: 0.0012\n",
      "Epoch 33/100\n",
      "22/22 [==============================] - 2s 92ms/step - loss: 7.1415e-04 - val_loss: 5.5349e-04\n",
      "Epoch 34/100\n",
      "22/22 [==============================] - 2s 83ms/step - loss: 6.0777e-04 - val_loss: 4.5511e-04\n",
      "Epoch 35/100\n",
      "22/22 [==============================] - 2s 83ms/step - loss: 5.4786e-04 - val_loss: 5.1006e-04\n",
      "Epoch 36/100\n",
      "22/22 [==============================] - 2s 86ms/step - loss: 6.0476e-04 - val_loss: 4.2960e-04\n",
      "Epoch 37/100\n",
      "22/22 [==============================] - 2s 88ms/step - loss: 5.2980e-04 - val_loss: 8.2952e-04\n",
      "Epoch 38/100\n",
      "22/22 [==============================] - 2s 90ms/step - loss: 4.9238e-04 - val_loss: 9.8024e-04\n",
      "Epoch 39/100\n",
      "22/22 [==============================] - 2s 80ms/step - loss: 5.2023e-04 - val_loss: 6.4717e-04\n",
      "Epoch 40/100\n",
      "22/22 [==============================] - 2s 79ms/step - loss: 4.8005e-04 - val_loss: 6.4282e-04\n",
      "Epoch 41/100\n",
      "22/22 [==============================] - 2s 74ms/step - loss: 6.0516e-04 - val_loss: 4.1941e-04\n",
      "Epoch 42/100\n",
      "22/22 [==============================] - 2s 71ms/step - loss: 3.9327e-04 - val_loss: 3.7931e-04\n",
      "Epoch 43/100\n",
      "22/22 [==============================] - 1s 66ms/step - loss: 3.9757e-04 - val_loss: 3.7986e-04\n",
      "Epoch 44/100\n",
      "22/22 [==============================] - 2s 71ms/step - loss: 4.1562e-04 - val_loss: 3.6970e-04\n",
      "Epoch 45/100\n",
      "22/22 [==============================] - 2s 69ms/step - loss: 4.0198e-04 - val_loss: 3.5599e-04\n",
      "Epoch 46/100\n",
      "22/22 [==============================] - 2s 69ms/step - loss: 4.0268e-04 - val_loss: 3.7021e-04\n",
      "Epoch 47/100\n",
      "22/22 [==============================] - 1s 67ms/step - loss: 3.8245e-04 - val_loss: 3.5369e-04\n",
      "Epoch 48/100\n",
      "22/22 [==============================] - 1s 69ms/step - loss: 3.8121e-04 - val_loss: 4.8094e-04\n",
      "Epoch 49/100\n",
      "22/22 [==============================] - 1s 67ms/step - loss: 3.5221e-04 - val_loss: 4.6656e-04\n",
      "Epoch 50/100\n",
      "22/22 [==============================] - 2s 69ms/step - loss: 3.5707e-04 - val_loss: 3.2954e-04\n",
      "Epoch 51/100\n",
      "22/22 [==============================] - 1s 69ms/step - loss: 3.8499e-04 - val_loss: 4.9145e-04\n",
      "Epoch 52/100\n",
      "22/22 [==============================] - 2s 73ms/step - loss: 4.6159e-04 - val_loss: 7.8477e-04\n",
      "Epoch 53/100\n",
      "22/22 [==============================] - 2s 70ms/step - loss: 4.9233e-04 - val_loss: 3.4024e-04\n",
      "Epoch 54/100\n",
      "22/22 [==============================] - 1s 66ms/step - loss: 3.5984e-04 - val_loss: 6.2455e-04\n",
      "Epoch 55/100\n",
      "22/22 [==============================] - 1s 66ms/step - loss: 3.5058e-04 - val_loss: 3.2166e-04\n",
      "Epoch 56/100\n",
      "22/22 [==============================] - 1s 66ms/step - loss: 3.3261e-04 - val_loss: 4.0293e-04\n",
      "Epoch 57/100\n",
      "22/22 [==============================] - 2s 69ms/step - loss: 3.7456e-04 - val_loss: 4.9573e-04\n",
      "Epoch 58/100\n",
      "22/22 [==============================] - 1s 67ms/step - loss: 4.5851e-04 - val_loss: 3.2078e-04\n",
      "Epoch 59/100\n",
      "22/22 [==============================] - 1s 67ms/step - loss: 4.3491e-04 - val_loss: 5.1245e-04\n",
      "Epoch 60/100\n",
      "22/22 [==============================] - 1s 66ms/step - loss: 4.6152e-04 - val_loss: 3.6912e-04\n",
      "Epoch 61/100\n",
      "22/22 [==============================] - 2s 70ms/step - loss: 3.5809e-04 - val_loss: 3.8345e-04\n",
      "Epoch 62/100\n",
      "22/22 [==============================] - 2s 69ms/step - loss: 3.3753e-04 - val_loss: 0.0011\n",
      "Epoch 63/100\n",
      "22/22 [==============================] - 2s 70ms/step - loss: 3.7695e-04 - val_loss: 3.2732e-04\n",
      "Epoch 64/100\n",
      "22/22 [==============================] - 1s 68ms/step - loss: 3.7995e-04 - val_loss: 0.0010\n",
      "Epoch 65/100\n",
      "22/22 [==============================] - 1s 67ms/step - loss: 3.5082e-04 - val_loss: 5.6076e-04\n",
      "Epoch 66/100\n",
      "22/22 [==============================] - 1s 68ms/step - loss: 3.2651e-04 - val_loss: 3.5837e-04\n",
      "Epoch 67/100\n",
      "22/22 [==============================] - 2s 68ms/step - loss: 3.3518e-04 - val_loss: 3.1976e-04\n",
      "Epoch 68/100\n",
      "22/22 [==============================] - 1s 67ms/step - loss: 3.1144e-04 - val_loss: 3.1560e-04\n",
      "Epoch 69/100\n",
      "22/22 [==============================] - 1s 67ms/step - loss: 4.1950e-04 - val_loss: 3.8121e-04\n",
      "Epoch 70/100\n",
      "22/22 [==============================] - 1s 66ms/step - loss: 4.0126e-04 - val_loss: 3.0827e-04\n",
      "Epoch 71/100\n",
      "22/22 [==============================] - 1s 66ms/step - loss: 3.6718e-04 - val_loss: 3.0322e-04\n",
      "Epoch 72/100\n",
      "22/22 [==============================] - 1s 66ms/step - loss: 3.3334e-04 - val_loss: 5.8877e-04\n",
      "Epoch 73/100\n",
      "22/22 [==============================] - 1s 67ms/step - loss: 3.2370e-04 - val_loss: 2.8298e-04\n",
      "Epoch 74/100\n",
      "22/22 [==============================] - 2s 71ms/step - loss: 3.4302e-04 - val_loss: 2.9778e-04\n",
      "Epoch 75/100\n",
      "22/22 [==============================] - 1s 64ms/step - loss: 3.4808e-04 - val_loss: 5.9115e-04\n",
      "Epoch 76/100\n",
      "22/22 [==============================] - 1s 64ms/step - loss: 4.1519e-04 - val_loss: 3.3178e-04\n",
      "Epoch 77/100\n",
      "22/22 [==============================] - 1s 64ms/step - loss: 3.5483e-04 - val_loss: 2.6248e-04\n",
      "Epoch 78/100\n",
      "22/22 [==============================] - 1s 64ms/step - loss: 3.9489e-04 - val_loss: 3.3720e-04\n",
      "Epoch 79/100\n",
      "22/22 [==============================] - 1s 63ms/step - loss: 3.0516e-04 - val_loss: 3.5207e-04\n",
      "Epoch 80/100\n",
      "22/22 [==============================] - 1s 67ms/step - loss: 3.1266e-04 - val_loss: 3.8470e-04\n",
      "Epoch 81/100\n",
      "22/22 [==============================] - 2s 74ms/step - loss: 3.5581e-04 - val_loss: 4.2227e-04\n",
      "Epoch 82/100\n",
      "22/22 [==============================] - 2s 72ms/step - loss: 3.0552e-04 - val_loss: 3.4442e-04\n",
      "Epoch 83/100\n",
      "22/22 [==============================] - 1s 69ms/step - loss: 3.0452e-04 - val_loss: 2.8027e-04\n",
      "Epoch 84/100\n",
      "22/22 [==============================] - 2s 71ms/step - loss: 3.3537e-04 - val_loss: 3.0926e-04\n",
      "Epoch 85/100\n",
      "22/22 [==============================] - 2s 71ms/step - loss: 3.3820e-04 - val_loss: 2.5353e-04\n",
      "Epoch 86/100\n",
      "22/22 [==============================] - 2s 69ms/step - loss: 2.9131e-04 - val_loss: 3.2927e-04\n",
      "Epoch 87/100\n",
      "22/22 [==============================] - 1s 68ms/step - loss: 3.4498e-04 - val_loss: 3.1578e-04\n",
      "Epoch 88/100\n",
      "22/22 [==============================] - 1s 68ms/step - loss: 3.2089e-04 - val_loss: 2.5592e-04\n",
      "Epoch 89/100\n",
      "22/22 [==============================] - 1s 66ms/step - loss: 3.4926e-04 - val_loss: 3.1709e-04\n",
      "Epoch 90/100\n",
      "22/22 [==============================] - 1s 67ms/step - loss: 3.2800e-04 - val_loss: 2.5517e-04\n",
      "Epoch 91/100\n",
      "22/22 [==============================] - 1s 67ms/step - loss: 2.7750e-04 - val_loss: 2.7617e-04\n",
      "Epoch 92/100\n",
      "22/22 [==============================] - 1s 65ms/step - loss: 2.7973e-04 - val_loss: 4.2564e-04\n",
      "Epoch 93/100\n",
      "22/22 [==============================] - 1s 67ms/step - loss: 3.0821e-04 - val_loss: 3.9470e-04\n",
      "Epoch 94/100\n",
      "22/22 [==============================] - 1s 66ms/step - loss: 3.0009e-04 - val_loss: 0.0011\n",
      "Epoch 95/100\n",
      "22/22 [==============================] - 1s 67ms/step - loss: 3.2860e-04 - val_loss: 2.4107e-04\n",
      "Epoch 96/100\n",
      "22/22 [==============================] - 1s 68ms/step - loss: 2.8089e-04 - val_loss: 2.2964e-04\n",
      "Epoch 97/100\n",
      "22/22 [==============================] - 1s 64ms/step - loss: 3.0160e-04 - val_loss: 3.6911e-04\n",
      "Epoch 98/100\n",
      "22/22 [==============================] - 1s 64ms/step - loss: 3.5220e-04 - val_loss: 7.6600e-04\n",
      "Epoch 99/100\n",
      "22/22 [==============================] - 1s 63ms/step - loss: 5.1651e-04 - val_loss: 2.3269e-04\n",
      "Epoch 100/100\n",
      "22/22 [==============================] - 1s 65ms/step - loss: 3.0920e-04 - val_loss: 2.3217e-04\n"
     ]
    },
    {
     "data": {
      "text/plain": [
       "<keras.src.callbacks.History at 0x118aadcb750>"
      ]
     },
     "execution_count": 51,
     "metadata": {},
     "output_type": "execute_result"
    }
   ],
   "source": [
    "model.fit(X_train,Y_train,validation_data = (X_test,Y_test),epochs = 100,batch_size = 64,verbose = 1)"
   ]
  },
  {
   "cell_type": "code",
   "execution_count": 52,
   "metadata": {},
   "outputs": [
    {
     "name": "stdout",
     "output_type": "stream",
     "text": [
      "43/43 [==============================] - 1s 16ms/step\n",
      "22/22 [==============================] - 0s 16ms/step\n"
     ]
    }
   ],
   "source": [
    "train_predict = model.predict(X_train)\n",
    "test_predict = model.predict(X_test)"
   ]
  },
  {
   "cell_type": "code",
   "execution_count": 53,
   "metadata": {},
   "outputs": [],
   "source": [
    "train_predict = scaler.inverse_transform(train_predict)\n",
    "test_predict = scaler.inverse_transform(test_predict)"
   ]
  },
  {
   "cell_type": "code",
   "execution_count": 54,
   "metadata": {},
   "outputs": [
    {
     "name": "stdout",
     "output_type": "stream",
     "text": [
      "1304.8537320673556\n",
      "1870.3370623991773\n"
     ]
    }
   ],
   "source": [
    "print(math.sqrt(mean_squared_error(Y_train,train_predict)))\n",
    "print(math.sqrt(mean_squared_error(Y_test,test_predict)))"
   ]
  },
  {
   "cell_type": "code",
   "execution_count": 55,
   "metadata": {},
   "outputs": [],
   "source": [
    "look_back = 100"
   ]
  },
  {
   "cell_type": "code",
   "execution_count": 56,
   "metadata": {},
   "outputs": [],
   "source": [
    "trainPredictPlot = np.empty_like(dataclose)\n",
    "trainPredictPlot[:,:] = np.nan\n",
    "trainPredictPlot[look_back : len(train_predict)+look_back,:] = train_predict"
   ]
  },
  {
   "cell_type": "code",
   "execution_count": 57,
   "metadata": {},
   "outputs": [],
   "source": [
    "testPredictPlot = np.empty_like(dataclose)\n",
    "testPredictPlot[:,:] = np.nan\n",
    "testPredictPlot[len(train_predict)+(look_back)*2 + 1 : len(dataclose) - 1,:] = test_predict"
   ]
  },
  {
   "cell_type": "code",
   "execution_count": 58,
   "metadata": {},
   "outputs": [
    {
     "data": {
      "image/png": "[encoded data removed]",
      "text/plain": [
       "<Figure size 640x480 with 1 Axes>"
      ]
     },
     "metadata": {},
     "output_type": "display_data"
    }
   ],
   "source": [
    "plt.plot(scaler.inverse_transform(dataclose))\n",
    "plt.plot(trainPredictPlot)\n",
    "plt.plot(testPredictPlot)\n",
    "plt.show()"
   ]
  },
  {
   "cell_type": "code",
   "execution_count": null,
   "metadata": {},
   "outputs": [],
   "source": [
    "display()"
   ]
  }
 ],
 "metadata": {
  "kernelspec": {
   "display_name": "MachineLearningEnv",
   "language": "python",
   "name": "python3"
  },
  "language_info": {
   "codemirror_mode": {
    "name": "ipython",
    "version": 3
   },
   "file_extension": ".py",
   "mimetype": "text/x-python",
   "name": "python",
   "nbconvert_exporter": "python",
   "pygments_lexer": "ipython3",
   "version": "3.11.7"
  }
 },
 "nbformat": 4,
 "nbformat_minor": 2
}
