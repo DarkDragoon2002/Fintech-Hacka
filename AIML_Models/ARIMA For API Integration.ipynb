{
 "cells": [
  {
   "cell_type": "code",
   "execution_count": 5,
   "id": "2d779ff7",
   "metadata": {},
   "outputs": [],
   "source": [
    "import pandas as pd\n",
    "# from pandas import datetime\n",
    "from pandas import read_csv\n",
    "from pandas import DataFrame\n",
    "\n",
    "import numpy as np\n",
    "\n",
    "from statsmodels.tsa.arima.model import ARIMA\n",
    "from statsmodels.tsa.stattools import adfuller\n",
    "from statsmodels.tsa.seasonal import seasonal_decompose\n",
    "\n",
    "from pylab import rcParams\n",
    "\n",
    "from pmdarima.arima import auto_arima\n",
    "\n",
    "import matplotlib.pyplot as plt\n",
    "\n",
    "import yfinance as yf\n",
    "\n",
    "from datetime import datetime\n",
    "from datetime import timedelta\n",
    "\n",
    "import plotly.graph_objects as go\n",
    "\n",
    "# import io\n",
    "# import base64\n",
    "\n",
    "import warnings\n",
    "warnings.filterwarnings('ignore')"
   ]
  },
  {
   "cell_type": "code",
   "execution_count": 6,
   "id": "75377b11",
   "metadata": {},
   "outputs": [
    {
     "name": "stderr",
     "output_type": "stream",
     "text": [
      "[*********************100%%**********************]  1 of 1 completed\n"
     ]
    },
    {
     "name": "stdout",
     "output_type": "stream",
     "text": [
      "Performing stepwise search to minimize aic\n",
      " ARIMA(0,1,0)(0,0,0)[0] intercept   : AIC=-6834.869, Time=0.18 sec\n",
      " ARIMA(1,1,0)(0,0,0)[0] intercept   : AIC=-6836.700, Time=0.39 sec\n",
      " ARIMA(0,1,1)(0,0,0)[0] intercept   : AIC=-6836.306, Time=0.40 sec\n",
      " ARIMA(0,1,0)(0,0,0)[0]             : AIC=-6836.319, Time=0.26 sec\n",
      " ARIMA(2,1,0)(0,0,0)[0] intercept   : AIC=-6841.381, Time=1.14 sec\n",
      " ARIMA(3,1,0)(0,0,0)[0] intercept   : AIC=-6840.143, Time=0.38 sec\n",
      " ARIMA(2,1,1)(0,0,0)[0] intercept   : AIC=-6842.271, Time=1.78 sec\n",
      " ARIMA(1,1,1)(0,0,0)[0] intercept   : AIC=-6840.060, Time=1.16 sec\n",
      " ARIMA(3,1,1)(0,0,0)[0] intercept   : AIC=-6838.198, Time=0.63 sec\n",
      " ARIMA(2,1,2)(0,0,0)[0] intercept   : AIC=-6838.296, Time=1.04 sec\n",
      " ARIMA(1,1,2)(0,0,0)[0] intercept   : AIC=-6840.487, Time=0.22 sec\n",
      " ARIMA(3,1,2)(0,0,0)[0] intercept   : AIC=-6839.948, Time=2.62 sec\n",
      " ARIMA(2,1,1)(0,0,0)[0]             : AIC=-6843.811, Time=0.65 sec\n",
      " ARIMA(1,1,1)(0,0,0)[0]             : AIC=-6841.479, Time=0.58 sec\n",
      " ARIMA(2,1,0)(0,0,0)[0]             : AIC=-6842.843, Time=0.18 sec\n",
      " ARIMA(3,1,1)(0,0,0)[0]             : AIC=-6839.678, Time=0.25 sec\n",
      " ARIMA(2,1,2)(0,0,0)[0]             : AIC=-6842.146, Time=0.91 sec\n",
      " ARIMA(1,1,0)(0,0,0)[0]             : AIC=-6838.103, Time=0.15 sec\n",
      " ARIMA(1,1,2)(0,0,0)[0]             : AIC=-6841.993, Time=0.17 sec\n",
      " ARIMA(3,1,0)(0,0,0)[0]             : AIC=-6841.624, Time=0.28 sec\n",
      " ARIMA(3,1,2)(0,0,0)[0]             : AIC=-6841.518, Time=1.47 sec\n",
      "\n",
      "Best model:  ARIMA(2,1,1)(0,0,0)[0]          \n",
      "Total fit time: 14.896 seconds\n"
     ]
    },
    {
     "data": {
      "text/plain": [
       "2024-01-11    2416.717573\n",
       "Freq: D, Name: predicted_mean, dtype: float64"
      ]
     },
     "execution_count": 6,
     "metadata": {},
     "output_type": "execute_result"
    }
   ],
   "source": [
    "def ARIMA_Function(Name_of_Coin):   \n",
    "    #getting data\n",
    "    today = datetime.today().strftime('%Y-%m-%d')\n",
    "    start_date = '2016-01-01'\n",
    "    eth_df = yf.download(Name_of_Coin ,start_date, today)\n",
    "    eth_df.tail()\n",
    "\n",
    "    # Preprocess data\n",
    "    dataset_ex_df = eth_df.copy()\n",
    "    dataset_ex_df = dataset_ex_df.reset_index()\n",
    "    dataset_ex_df['Date'] = pd.to_datetime(dataset_ex_df['Date'])\n",
    "    dataset_ex_df.set_index('Date', inplace=True)\n",
    "    dataset_ex_df = dataset_ex_df['Close'].to_frame()\n",
    "    df = dataset_ex_df\n",
    "    \n",
    "    df_close = dataset_ex_df['Close']\n",
    "    \n",
    "    df_log = np.log(df_close)\n",
    "    \n",
    "    #split data into train and training set\n",
    "    train_data, test_data = df_log[3:int(len(df_close)*0.95)], df_log[int(len(df_log)*0.95):]\n",
    "    \n",
    "    \n",
    "    def ARIMACheck(data):\n",
    "        fit = auto_arima(train_data, start_p=0, start_q=0,\n",
    "                    test='adf',       # use adftest to find optimal 'd'\n",
    "                    max_p=3, max_q=3, # maximum p and q\n",
    "                    m=1,              # frequency of series\n",
    "                    d=None,           # let model determine 'd'\n",
    "                    seasonal=False,   # No Seasonality\n",
    "                    start_P=0, \n",
    "                    D=0, \n",
    "                    trace=True,\n",
    "                    error_action='ignore',  \n",
    "                    suppress_warnings=True, \n",
    "                    stepwise=True)\n",
    "        return fit\n",
    "    \n",
    "    model_future = ARIMA(df, order = ARIMACheck(df).get_params().get(\"order\"))\n",
    "    results_future = model_future.fit()\n",
    "    predictions_future = results_future.predict(len(df),len(df)+50,typ = 'levels')\n",
    "    # df.plot(legend=True , figsize = (12,8))\n",
    "    # predictions_future.plot(legend=True)\n",
    "    final_result = predictions_future[:1].to_list()\n",
    "\n",
    "    with open('result_arima.txt', 'w') as file:\n",
    "        file.write(str(final_result))\n",
    "\n",
    "    # return {\n",
    "    #     'last_two_data_points': df[-2:].to_dict(),\n",
    "    #     'next_prediction': predictions_future[:1].to_dict(),\n",
    "    #     'plot': plot_data  # This will be a base64-encoded image\n",
    "    # }\n",
    "\n",
    "print(ARIMA_Function('ETH-USD'))"
   ]
  },
  {
   "cell_type": "code",
   "execution_count": null,
   "id": "fab79829",
   "metadata": {},
   "outputs": [],
   "source": []
  }
 ],
 "metadata": {
  "kernelspec": {
   "display_name": "Python 3 (ipykernel)",
   "language": "python",
   "name": "python3"
  },
  "language_info": {
   "codemirror_mode": {
    "name": "ipython",
    "version": 3
   },
   "file_extension": ".py",
   "mimetype": "text/x-python",
   "name": "python",
   "nbconvert_exporter": "python",
   "pygments_lexer": "ipython3",
   "version": "3.9.6"
  }
 },
 "nbformat": 4,
 "nbformat_minor": 5
}
